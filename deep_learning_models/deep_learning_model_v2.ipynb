{
 "cells": [
  {
   "cell_type": "code",
   "execution_count": 2,
   "metadata": {},
   "outputs": [],
   "source": [
    "import pandas as pd\n",
    "import matplotlib.pyplot as plt\n",
    "import seaborn as sns\n",
    "import tensorflow as tf\n",
    "from tensorflow.keras.models import Sequential\n",
    "from tensorflow.keras.layers import Dense\n",
    "from sklearn.model_selection import train_test_split\n",
    "from sklearn.preprocessing import StandardScaler\n",
    "from sklearn.metrics import accuracy_score\n",
    "\n",
    "base_df = pd.read_csv(\"/home/samir/Desktop/rudraAnalytics/sub_projects/churn/data/data.csv\")\n",
    "pd.set_option(\"display.max_columns\", None)"
   ]
  },
  {
   "cell_type": "code",
   "execution_count": 5,
   "metadata": {},
   "outputs": [],
   "source": [
    "df = base_df.copy()"
   ]
  },
  {
   "cell_type": "code",
   "execution_count": 6,
   "metadata": {},
   "outputs": [],
   "source": [
    "# from prepare import screen_data\n",
    "# screen_data(df=df, skip=['customerID'])"
   ]
  },
  {
   "cell_type": "code",
   "execution_count": 7,
   "metadata": {},
   "outputs": [],
   "source": [
    "df['TotalCharges'] = pd.to_numeric(df['TotalCharges'], errors='coerce')\n",
    "df['SeniorCitizen'] = df['SeniorCitizen'].astype(str)"
   ]
  },
  {
   "cell_type": "code",
   "execution_count": 8,
   "metadata": {},
   "outputs": [],
   "source": [
    "\n",
    "def one_hot_encode(df, encode_set=[], dont_encode=[]):\n",
    "    encoded_df = df.copy()\n",
    "    for column in encode_set:\n",
    "        if column in dont_encode:\n",
    "            continue\n",
    "        # print(len(df[column].unique()))\n",
    "        if df[column].dtype == 'object':\n",
    "            if len(df[column].unique()) == 2:\n",
    "                # Binary encoding (0 and 1)\n",
    "                encoded_df[column] = pd.get_dummies(df[column], drop_first=True)\n",
    "            else:\n",
    "                # One-hot encoding and using 0 and 1 instead of True and False\n",
    "                one_hot_encoded = pd.get_dummies(df[column], prefix=column, drop_first=False)\n",
    "                one_hot_encoded.columns = [f\"{column}{i+1}\" for i in range(one_hot_encoded.shape[1])]\n",
    "                encoded_df = pd.concat([encoded_df, one_hot_encoded], axis=1)\n",
    "                encoded_df.drop(column, axis=1, inplace=True)\n",
    "                # print(encoded_df)\n",
    "\n",
    "    return encoded_df"
   ]
  },
  {
   "cell_type": "code",
   "execution_count": 9,
   "metadata": {},
   "outputs": [],
   "source": [
    "features = [\n",
    "    'customerID',\n",
    "    'gender',\n",
    "    'SeniorCitizen',\n",
    "    'Partner',\n",
    "    'Dependents',\n",
    "    'tenure',\n",
    "    'PhoneService',\n",
    "    'MultipleLines',\n",
    "    'InternetService',\n",
    "    'OnlineSecurity',\n",
    "    'OnlineBackup',\n",
    "    'DeviceProtection',\n",
    "    'TechSupport',\n",
    "    'StreamingTV',\n",
    "    'StreamingMovies',\n",
    "    'Contract',\n",
    "    'PaperlessBilling',\n",
    "    'PaymentMethod',\n",
    "    'MonthlyCharges',\n",
    "    'TotalCharges',\n",
    "    'Churn'\n",
    "]\n",
    "dont_label = ['customerID', 'tenure', 'MonthlyCharges', 'TotalCharges']\n",
    "\n",
    "encoded_df = one_hot_encode(df.drop('customerID', axis=1), features, dont_label)\n",
    "encoded_df['TotalCharges'].fillna(encoded_df['TotalCharges'].mean(), inplace=True)"
   ]
  },
  {
   "cell_type": "code",
   "execution_count": 12,
   "metadata": {},
   "outputs": [
    {
     "name": "stdout",
     "output_type": "stream",
     "text": [
      "Epoch 1/10\n",
      "177/177 [==============================] - 1s 2ms/step - loss: 0.5599 - accuracy: 0.6999 - val_loss: 0.4310 - val_accuracy: 0.8027\n",
      "Epoch 2/10\n",
      "177/177 [==============================] - 0s 2ms/step - loss: 0.4374 - accuracy: 0.7906 - val_loss: 0.4160 - val_accuracy: 0.8048\n",
      "Epoch 3/10\n",
      "177/177 [==============================] - 0s 1ms/step - loss: 0.4269 - accuracy: 0.7971 - val_loss: 0.4081 - val_accuracy: 0.8133\n",
      "Epoch 4/10\n",
      "177/177 [==============================] - 0s 1ms/step - loss: 0.4214 - accuracy: 0.7987 - val_loss: 0.4047 - val_accuracy: 0.8119\n",
      "Epoch 5/10\n",
      "177/177 [==============================] - 0s 1ms/step - loss: 0.4182 - accuracy: 0.8003 - val_loss: 0.4034 - val_accuracy: 0.8162\n",
      "Epoch 6/10\n",
      "177/177 [==============================] - 0s 1ms/step - loss: 0.4156 - accuracy: 0.8024 - val_loss: 0.4028 - val_accuracy: 0.8119\n",
      "Epoch 7/10\n",
      "177/177 [==============================] - 0s 2ms/step - loss: 0.4137 - accuracy: 0.8051 - val_loss: 0.4033 - val_accuracy: 0.8126\n",
      "Epoch 8/10\n",
      "177/177 [==============================] - 0s 1ms/step - loss: 0.4121 - accuracy: 0.8037 - val_loss: 0.4031 - val_accuracy: 0.8119\n",
      "Epoch 9/10\n",
      "177/177 [==============================] - 0s 2ms/step - loss: 0.4122 - accuracy: 0.8046 - val_loss: 0.4024 - val_accuracy: 0.8133\n",
      "Epoch 10/10\n",
      "177/177 [==============================] - 0s 1ms/step - loss: 0.4101 - accuracy: 0.8023 - val_loss: 0.4017 - val_accuracy: 0.8148\n",
      "45/45 [==============================] - 0s 933us/step\n",
      "Deep Learning Test Accuracy: 81.48%\n"
     ]
    }
   ],
   "source": [
    "X = encoded_df.drop('Churn', axis=1)\n",
    "y = encoded_df['Churn']\n",
    "\n",
    "X_train, X_test, y_train, y_test = train_test_split(X, y, test_size=0.2, random_state=42)\n",
    "\n",
    "scaler = StandardScaler()\n",
    "X_train = scaler.fit_transform(X_train)\n",
    "X_test = scaler.transform(X_test)\n",
    "\n",
    "model = Sequential([\n",
    "    Dense(32, activation='relu', input_shape=(X_train.shape[1],)),\n",
    "    Dense(1, activation='sigmoid')\n",
    "])\n",
    "\n",
    "# Compile the model\n",
    "model.compile(optimizer='adam', loss='binary_crossentropy', metrics=['accuracy'])\n",
    "\n",
    "# Train the model\n",
    "model.fit(X_train, y_train, epochs=10, batch_size=32, validation_data=(X_test, y_test))\n",
    "\n",
    "# Make predictions on the test set\n",
    "y_pred_dl = (model.predict(X_test) > 0.5).astype(int)\n",
    "\n",
    "# Evaluate the model\n",
    "accuracy_dl = accuracy_score(y_test, y_pred_dl)\n",
    "print(f\"Deep Learning Test Accuracy: {accuracy_dl * 100:.2f}%\")"
   ]
  },
  {
   "attachments": {},
   "cell_type": "markdown",
   "metadata": {},
   "source": [
    "Deep Learning Test Accuracy: 81.48%"
   ]
  }
 ],
 "metadata": {
  "kernelspec": {
   "display_name": "env0",
   "language": "python",
   "name": "python3"
  },
  "language_info": {
   "codemirror_mode": {
    "name": "ipython",
    "version": 3
   },
   "file_extension": ".py",
   "mimetype": "text/x-python",
   "name": "python",
   "nbconvert_exporter": "python",
   "pygments_lexer": "ipython3",
   "version": "3.10.12"
  },
  "orig_nbformat": 4
 },
 "nbformat": 4,
 "nbformat_minor": 2
}
