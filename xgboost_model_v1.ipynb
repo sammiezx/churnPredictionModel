{
 "cells": [
  {
   "cell_type": "code",
   "execution_count": 2,
   "metadata": {},
   "outputs": [
    {
     "name": "stdout",
     "output_type": "stream",
     "text": [
      "Test Accuracy: 78.99%\n"
     ]
    }
   ],
   "source": [
    "import xgboost as xgb\n",
    "from sklearn.model_selection import train_test_split\n",
    "from sklearn.metrics import accuracy_score\n",
    "import pandas as pd\n",
    "\n",
    "\n",
    "\n",
    "base_df = pd.read_csv(\"/home/samir/Desktop/rudraAnalytics/sub_projects/churn/data.csv\")\n",
    "pd.set_option(\"display.max_columns\", None)\n",
    "\n",
    "df = base_df.copy()\n",
    "df['TotalCharges'] = pd.to_numeric(df['TotalCharges'], errors='coerce')\n",
    "df['SeniorCitizen'] = df['SeniorCitizen'].astype(str)\n",
    "\n",
    "\n",
    "def one_hot_encode(df, encode_set=[], dont_encode=[]):\n",
    "    encoded_df = df.copy()\n",
    "    for column in encode_set:\n",
    "        if column in dont_encode:\n",
    "            continue\n",
    "        # print(len(df[column].unique()))\n",
    "        if df[column].dtype == 'object':\n",
    "            if len(df[column].unique()) == 2:\n",
    "                # Binary encoding (0 and 1)\n",
    "                encoded_df[column] = pd.get_dummies(df[column], drop_first=True)\n",
    "            else:\n",
    "                # One-hot encoding and using 0 and 1 instead of True and False\n",
    "                one_hot_encoded = pd.get_dummies(df[column], prefix=column, drop_first=False)\n",
    "                one_hot_encoded.columns = [f\"{column}{i+1}\" for i in range(one_hot_encoded.shape[1])]\n",
    "                encoded_df = pd.concat([encoded_df, one_hot_encoded], axis=1)\n",
    "                encoded_df.drop(column, axis=1, inplace=True)\n",
    "                # print(encoded_df)\n",
    "\n",
    "    return encoded_df\n",
    "\n",
    "features = [\n",
    "    'customerID',\n",
    "    'gender',\n",
    "    'SeniorCitizen',\n",
    "    'Partner',\n",
    "    'Dependents',\n",
    "    'tenure',\n",
    "    'PhoneService',\n",
    "    'MultipleLines',\n",
    "    'InternetService',\n",
    "    'OnlineSecurity',\n",
    "    'OnlineBackup',\n",
    "    'DeviceProtection',\n",
    "    'TechSupport',\n",
    "    'StreamingTV',\n",
    "    'StreamingMovies',\n",
    "    'Contract',\n",
    "    'PaperlessBilling',\n",
    "    'PaymentMethod',\n",
    "    'MonthlyCharges',\n",
    "    'TotalCharges',\n",
    "    'Churn'\n",
    "]\n",
    "dont_label = ['customerID', 'tenure', 'MonthlyCharges', 'TotalCharges']\n",
    "\n",
    "encoded_df = one_hot_encode(df.drop('customerID', axis=1), features, dont_label)\n",
    "\n",
    "# Extract features and target\n",
    "X = encoded_df.drop('Churn', axis=1)\n",
    "y = encoded_df['Churn']\n",
    "\n",
    "# Split the data into training and testing sets\n",
    "X_train, X_test, y_train, y_test = train_test_split(X, y, test_size=0.2, random_state=42)\n",
    "\n",
    "# Build the XGBoost model\n",
    "model = xgb.XGBClassifier(objective='binary:logistic', random_state=42)\n",
    "\n",
    "# Train the model\n",
    "model.fit(X_train, y_train)\n",
    "\n",
    "# Make predictions on the test set\n",
    "y_pred = model.predict(X_test)\n",
    "\n",
    "# Evaluate the model\n",
    "accuracy = accuracy_score(y_test, y_pred)\n",
    "print(f\"Test Accuracy: {accuracy * 100:.2f}%\")\n"
   ]
  },
  {
   "attachments": {},
   "cell_type": "markdown",
   "metadata": {},
   "source": [
    "#ACCURACY: 78.99%"
   ]
  }
 ],
 "metadata": {
  "kernelspec": {
   "display_name": "env0",
   "language": "python",
   "name": "python3"
  },
  "language_info": {
   "codemirror_mode": {
    "name": "ipython",
    "version": 3
   },
   "file_extension": ".py",
   "mimetype": "text/x-python",
   "name": "python",
   "nbconvert_exporter": "python",
   "pygments_lexer": "ipython3",
   "version": "3.10.12"
  },
  "orig_nbformat": 4
 },
 "nbformat": 4,
 "nbformat_minor": 2
}
